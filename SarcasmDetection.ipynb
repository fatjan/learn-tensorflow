{
  "nbformat": 4,
  "nbformat_minor": 0,
  "metadata": {
    "colab": {
      "name": "SarcasmDetection.ipynb",
      "provenance": [],
      "collapsed_sections": [],
      "authorship_tag": "ABX9TyPx1utcXJVdFeM88Hw8hmkh",
      "include_colab_link": true
    },
    "kernelspec": {
      "name": "python3",
      "display_name": "Python 3"
    }
  },
  "cells": [
    {
      "cell_type": "markdown",
      "metadata": {
        "id": "view-in-github",
        "colab_type": "text"
      },
      "source": [
        "<a href=\"https://colab.research.google.com/github/fatjan/learn-tensorflow/blob/master/SarcasmDetection.ipynb\" target=\"_parent\"><img src=\"https://colab.research.google.com/assets/colab-badge.svg\" alt=\"Open In Colab\"/></a>"
      ]
    },
    {
      "cell_type": "markdown",
      "metadata": {
        "id": "XwQMuxoVE6dK"
      },
      "source": [
        "Use TF 2.x"
      ]
    },
    {
      "cell_type": "code",
      "metadata": {
        "id": "dgd5zOfGEyiv"
      },
      "source": [
        "# Run this to ensure TF 2.x is used \n",
        "\n",
        "try:\n",
        "  # %tensiorflow_version only exists in Colab.\n",
        "  %tensorflow_version 2.x\n",
        "except Exception:\n",
        "  pass"
      ],
      "execution_count": 2,
      "outputs": []
    },
    {
      "cell_type": "code",
      "metadata": {
        "id": "kuferr8fFXgP"
      },
      "source": [
        "import json\n",
        "import tensorflow as tf\n",
        "\n",
        "from tensorflow.keras.preprocessing.text import Tokenizer\n",
        "from tensorflow.keras.preprocessing.sequence import pad_sequences"
      ],
      "execution_count": 3,
      "outputs": []
    },
    {
      "cell_type": "code",
      "metadata": {
        "id": "BZrA7QehFmKM"
      },
      "source": [
        "vocab_size = 1000\n",
        "embedding_dim = 16\n",
        "max_length = 100\n",
        "trunc_type = 'post'\n",
        "padding_type = 'post'\n",
        "oov_tok = '<OOV>'\n",
        "training_size = 20000"
      ],
      "execution_count": 4,
      "outputs": []
    },
    {
      "cell_type": "markdown",
      "metadata": {
        "id": "ZXK028LnF18a"
      },
      "source": [
        "Get sarcasm data"
      ]
    },
    {
      "cell_type": "code",
      "metadata": {
        "colab": {
          "base_uri": "https://localhost:8080/"
        },
        "id": "S0w--ARXF30-",
        "outputId": "8b6a7652-cfb4-40c0-efc5-49d5154633ef"
      },
      "source": [
        "!wget --no-check-certificate \\\n",
        "    https://storage.googleapis.com/laurencemoroney-blog.appspot.com/sarcasm.json \\\n",
        "    -O /tmp/sarcasm.json"
      ],
      "execution_count": 5,
      "outputs": [
        {
          "output_type": "stream",
          "text": [
            "--2020-12-19 17:41:27--  https://storage.googleapis.com/laurencemoroney-blog.appspot.com/sarcasm.json\n",
            "Resolving storage.googleapis.com (storage.googleapis.com)... 173.194.192.128, 108.177.112.128, 172.217.212.128, ...\n",
            "Connecting to storage.googleapis.com (storage.googleapis.com)|173.194.192.128|:443... connected.\n",
            "HTTP request sent, awaiting response... 200 OK\n",
            "Length: 5643545 (5.4M) [application/json]\n",
            "Saving to: ‘/tmp/sarcasm.json’\n",
            "\n",
            "\r/tmp/sarcasm.json     0%[                    ]       0  --.-KB/s               \r/tmp/sarcasm.json   100%[===================>]   5.38M  --.-KB/s    in 0.03s   \n",
            "\n",
            "2020-12-19 17:41:27 (158 MB/s) - ‘/tmp/sarcasm.json’ saved [5643545/5643545]\n",
            "\n"
          ],
          "name": "stdout"
        }
      ]
    },
    {
      "cell_type": "code",
      "metadata": {
        "id": "howvdihmF7-L"
      },
      "source": [
        "with open('/tmp/sarcasm.json', 'r') as f:\n",
        "  datastore = json.load(f)\n",
        "\n",
        "sentences = []\n",
        "labels = []\n",
        "\n",
        "for item in datastore:\n",
        "  sentences.append(item['headline'])\n",
        "  labels.append(item['is_sarcastic'])\n"
      ],
      "execution_count": 7,
      "outputs": []
    },
    {
      "cell_type": "code",
      "metadata": {
        "id": "5DzC5LNXGTbw"
      },
      "source": [
        "training_sentences = sentences[0:training_size]\n",
        "testing_sentences = sentences[training_size:]\n",
        "training_labels = labels[0:training_size]\n",
        "testing_labels = labels [training_size:]"
      ],
      "execution_count": 13,
      "outputs": []
    },
    {
      "cell_type": "code",
      "metadata": {
        "id": "4J11lrF2GjG9"
      },
      "source": [
        "tokenizer = Tokenizer(num_words=vocab_size, oov_token=oov_tok)\n",
        "tokenizer.fit_on_texts(training_sentences)\n",
        "\n",
        "word_index = tokenizer.word_index\n",
        "\n",
        "training_sequences = tokenizer.texts_to_sequences(training_sentences)\n",
        "training_padded = pad_sequences(training_sequences, maxlen=max_length, padding=padding_type, truncating=trunc_type)\n",
        "\n",
        "testing_sequences = tokenizer.texts_to_sequences(testing_sentences)\n",
        "testing_padded = pad_sequences(testing_sequences, maxlen=max_length, padding=padding_type, truncating=trunc_type)\n"
      ],
      "execution_count": 11,
      "outputs": []
    },
    {
      "cell_type": "code",
      "metadata": {
        "id": "WGu2jvjyHgLm"
      },
      "source": [
        "import numpy as np\n",
        "training_padded = np.array(training_padded)\n",
        "training_labels = np.array(training_labels)\n",
        "testing_padded = np.array(testing_padded)\n",
        "testing_labels = np.array(testing_labels)"
      ],
      "execution_count": 14,
      "outputs": []
    },
    {
      "cell_type": "code",
      "metadata": {
        "id": "AI-DMma6H5cR"
      },
      "source": [
        "model = tf.keras.Sequential([\n",
        "              tf.keras.layers.Embedding(vocab_size, embedding_dim, input_length=max_length),\n",
        "              tf.keras.layers.GlobalAveragePooling1D(),\n",
        "              tf.keras.layers.Dense(24, activation='relu'),\n",
        "              tf.keras.layers.Dense(1, activation='sigmoid')\n",
        "])\n",
        "\n",
        "model.compile(loss='binary_crossentropy', optimizer='adam', metrics=['accuracy'])"
      ],
      "execution_count": 16,
      "outputs": []
    },
    {
      "cell_type": "code",
      "metadata": {
        "colab": {
          "base_uri": "https://localhost:8080/"
        },
        "id": "ouEEybP6IXfP",
        "outputId": "fbb416da-76c2-471d-84c5-23df1704e1df"
      },
      "source": [
        "model.summary()"
      ],
      "execution_count": 17,
      "outputs": [
        {
          "output_type": "stream",
          "text": [
            "Model: \"sequential\"\n",
            "_________________________________________________________________\n",
            "Layer (type)                 Output Shape              Param #   \n",
            "=================================================================\n",
            "embedding (Embedding)        (None, 100, 16)           16000     \n",
            "_________________________________________________________________\n",
            "global_average_pooling1d (Gl (None, 16)                0         \n",
            "_________________________________________________________________\n",
            "dense (Dense)                (None, 24)                408       \n",
            "_________________________________________________________________\n",
            "dense_1 (Dense)              (None, 1)                 25        \n",
            "=================================================================\n",
            "Total params: 16,433\n",
            "Trainable params: 16,433\n",
            "Non-trainable params: 0\n",
            "_________________________________________________________________\n"
          ],
          "name": "stdout"
        }
      ]
    },
    {
      "cell_type": "code",
      "metadata": {
        "colab": {
          "base_uri": "https://localhost:8080/"
        },
        "id": "h9hRcUVQIgJV",
        "outputId": "fc2eb31c-0eb0-49f4-a85e-062737b536d5"
      },
      "source": [
        "num_epochs = 30\n",
        "history = model.fit(training_padded, training_labels, epochs=num_epochs, validation_data=(testing_padded, testing_labels), verbose=2)"
      ],
      "execution_count": 18,
      "outputs": [
        {
          "output_type": "stream",
          "text": [
            "Epoch 1/30\n",
            "625/625 - 2s - loss: 0.6689 - accuracy: 0.5907 - val_loss: 0.5893 - val_accuracy: 0.7427\n",
            "Epoch 2/30\n",
            "625/625 - 1s - loss: 0.4760 - accuracy: 0.7793 - val_loss: 0.4360 - val_accuracy: 0.7922\n",
            "Epoch 3/30\n",
            "625/625 - 1s - loss: 0.3996 - accuracy: 0.8166 - val_loss: 0.4088 - val_accuracy: 0.8126\n",
            "Epoch 4/30\n",
            "625/625 - 1s - loss: 0.3798 - accuracy: 0.8262 - val_loss: 0.4015 - val_accuracy: 0.8135\n",
            "Epoch 5/30\n",
            "625/625 - 1s - loss: 0.3707 - accuracy: 0.8310 - val_loss: 0.3995 - val_accuracy: 0.8107\n",
            "Epoch 6/30\n",
            "625/625 - 1s - loss: 0.3638 - accuracy: 0.8327 - val_loss: 0.3981 - val_accuracy: 0.8156\n",
            "Epoch 7/30\n",
            "625/625 - 1s - loss: 0.3595 - accuracy: 0.8364 - val_loss: 0.4011 - val_accuracy: 0.8158\n",
            "Epoch 8/30\n",
            "625/625 - 1s - loss: 0.3561 - accuracy: 0.8364 - val_loss: 0.3996 - val_accuracy: 0.8110\n",
            "Epoch 9/30\n",
            "625/625 - 1s - loss: 0.3531 - accuracy: 0.8393 - val_loss: 0.4004 - val_accuracy: 0.8131\n",
            "Epoch 10/30\n",
            "625/625 - 1s - loss: 0.3523 - accuracy: 0.8413 - val_loss: 0.4026 - val_accuracy: 0.8125\n",
            "Epoch 11/30\n",
            "625/625 - 1s - loss: 0.3512 - accuracy: 0.8399 - val_loss: 0.4032 - val_accuracy: 0.8149\n",
            "Epoch 12/30\n",
            "625/625 - 1s - loss: 0.3512 - accuracy: 0.8407 - val_loss: 0.4047 - val_accuracy: 0.8117\n",
            "Epoch 13/30\n",
            "625/625 - 1s - loss: 0.3486 - accuracy: 0.8415 - val_loss: 0.4078 - val_accuracy: 0.8134\n",
            "Epoch 14/30\n",
            "625/625 - 1s - loss: 0.3482 - accuracy: 0.8432 - val_loss: 0.4048 - val_accuracy: 0.8106\n",
            "Epoch 15/30\n",
            "625/625 - 1s - loss: 0.3480 - accuracy: 0.8416 - val_loss: 0.4048 - val_accuracy: 0.8144\n",
            "Epoch 16/30\n",
            "625/625 - 1s - loss: 0.3471 - accuracy: 0.8418 - val_loss: 0.4055 - val_accuracy: 0.8149\n",
            "Epoch 17/30\n",
            "625/625 - 1s - loss: 0.3468 - accuracy: 0.8424 - val_loss: 0.4060 - val_accuracy: 0.8110\n",
            "Epoch 18/30\n",
            "625/625 - 1s - loss: 0.3474 - accuracy: 0.8431 - val_loss: 0.4114 - val_accuracy: 0.8098\n",
            "Epoch 19/30\n",
            "625/625 - 1s - loss: 0.3475 - accuracy: 0.8418 - val_loss: 0.4114 - val_accuracy: 0.8098\n",
            "Epoch 20/30\n",
            "625/625 - 1s - loss: 0.3477 - accuracy: 0.8436 - val_loss: 0.4121 - val_accuracy: 0.8091\n",
            "Epoch 21/30\n",
            "625/625 - 1s - loss: 0.3458 - accuracy: 0.8432 - val_loss: 0.4093 - val_accuracy: 0.8125\n",
            "Epoch 22/30\n",
            "625/625 - 1s - loss: 0.3458 - accuracy: 0.8426 - val_loss: 0.4252 - val_accuracy: 0.8098\n",
            "Epoch 23/30\n",
            "625/625 - 1s - loss: 0.3466 - accuracy: 0.8436 - val_loss: 0.4097 - val_accuracy: 0.8109\n",
            "Epoch 24/30\n",
            "625/625 - 1s - loss: 0.3457 - accuracy: 0.8441 - val_loss: 0.4130 - val_accuracy: 0.8103\n",
            "Epoch 25/30\n",
            "625/625 - 1s - loss: 0.3462 - accuracy: 0.8422 - val_loss: 0.4091 - val_accuracy: 0.8122\n",
            "Epoch 26/30\n",
            "625/625 - 1s - loss: 0.3462 - accuracy: 0.8439 - val_loss: 0.4087 - val_accuracy: 0.8110\n",
            "Epoch 27/30\n",
            "625/625 - 1s - loss: 0.3447 - accuracy: 0.8421 - val_loss: 0.4104 - val_accuracy: 0.8132\n",
            "Epoch 28/30\n",
            "625/625 - 1s - loss: 0.3447 - accuracy: 0.8446 - val_loss: 0.4141 - val_accuracy: 0.8094\n",
            "Epoch 29/30\n",
            "625/625 - 1s - loss: 0.3448 - accuracy: 0.8450 - val_loss: 0.4093 - val_accuracy: 0.8123\n",
            "Epoch 30/30\n",
            "625/625 - 1s - loss: 0.3448 - accuracy: 0.8428 - val_loss: 0.4215 - val_accuracy: 0.8092\n"
          ],
          "name": "stdout"
        }
      ]
    },
    {
      "cell_type": "code",
      "metadata": {
        "colab": {
          "base_uri": "https://localhost:8080/",
          "height": 541
        },
        "id": "x3bS-k3_IxeY",
        "outputId": "40a3bdda-a3c6-4cd5-c5bc-2b2b04cb057c"
      },
      "source": [
        "import matplotlib.pyplot as plt\n",
        "\n",
        "def plot_graphs(history, string):\n",
        "  plt.plot(history.history[string])\n",
        "  plt.plot(history.history['val_' + string])\n",
        "  plt.xlabel('Epochs')\n",
        "  plt.ylabel(string)\n",
        "  plt.legend([string, 'val_' + string])\n",
        "  plt.show()\n",
        "\n",
        "plot_graphs(history, 'accuracy')\n",
        "plot_graphs(history, 'loss')\n"
      ],
      "execution_count": 19,
      "outputs": [
        {
          "output_type": "display_data",
          "data": {
            "image/png": "[encoded data removed]",
            "text/plain": [
              "<Figure size 432x288 with 1 Axes>"
            ]
          },
          "metadata": {
            "tags": [],
            "needs_background": "light"
          }
        },
        {
          "output_type": "display_data",
          "data": {
            "image/png": "[encoded data removed]",
            "text/plain": [
              "<Figure size 432x288 with 1 Axes>"
            ]
          },
          "metadata": {
            "tags": [],
            "needs_background": "light"
          }
        }
      ]
    },
    {
      "cell_type": "code",
      "metadata": {
        "colab": {
          "base_uri": "https://localhost:8080/"
        },
        "id": "meTFUIIaJeIK",
        "outputId": "fcbbde97-1760-4c34-9e47-016da70ed8f7"
      },
      "source": [
        "reverse_word_index = dict([(value, key) for (key, value) in word_index.items()])\n",
        "\n",
        "def decode_sentence(text):\n",
        "  return ' '.join([reverse_word_index.get(i, '?') for i in text])\n",
        "\n",
        "print(decode_sentence(training_padded[0]))\n",
        "print(training_sentences[2])\n",
        "print(labels[2])"
      ],
      "execution_count": 21,
      "outputs": [
        {
          "output_type": "stream",
          "text": [
            "former <OOV> store <OOV> <OOV> over secret <OOV> <OOV> for <OOV> <OOV> ? ? ? ? ? ? ? ? ? ? ? ? ? ? ? ? ? ? ? ? ? ? ? ? ? ? ? ? ? ? ? ? ? ? ? ? ? ? ? ? ? ? ? ? ? ? ? ? ? ? ? ? ? ? ? ? ? ? ? ? ? ? ? ? ? ? ? ? ? ? ? ? ? ? ? ? ? ? ? ? ? ? ? ? ? ? ? ?\n",
            "mom starting to fear son's web series closest thing she will have to grandchild\n",
            "1\n"
          ],
          "name": "stdout"
        }
      ]
    },
    {
      "cell_type": "code",
      "metadata": {
        "colab": {
          "base_uri": "https://localhost:8080/"
        },
        "id": "ykeheXV2KIjI",
        "outputId": "b71e91ec-b9fa-4e45-c4cd-592e53a67480"
      },
      "source": [
        "e = model.layers[0]\n",
        "weights = e.get_weights()[0]\n",
        "print(weights.shape)"
      ],
      "execution_count": 22,
      "outputs": [
        {
          "output_type": "stream",
          "text": [
            "(1000, 16)\n"
          ],
          "name": "stdout"
        }
      ]
    },
    {
      "cell_type": "code",
      "metadata": {
        "id": "Lp4mUu_hKVkZ"
      },
      "source": [
        "import io\n",
        "\n",
        "out_v = io.open('vecs.tsv', 'w', encoding='utf-8')\n",
        "out_m = io.open('meta.tsv', 'w', encoding='utf-8')\n",
        "\n",
        "for word_num in range(1, vocab_size):\n",
        "  word = reverse_word_index[word_num]\n",
        "  embeddings = weights[word_num]\n",
        "  out_m.write(word + '\\n')\n",
        "  out_v.write('\\t'.join([str(x) for x in embeddings]) + '\\n')\n",
        "out_v.close()\n",
        "out_m.close()"
      ],
      "execution_count": 24,
      "outputs": []
    },
    {
      "cell_type": "code",
      "metadata": {
        "colab": {
          "base_uri": "https://localhost:8080/",
          "height": 17
        },
        "id": "_muuQublLHiF",
        "outputId": "d2882ee1-bf1d-4337-d4b4-7cb9035c8194"
      },
      "source": [
        "try:\n",
        "  from google.colab import files\n",
        "except ImportError:\n",
        "  pass\n",
        "else:\n",
        "  files.download('vecs.tsv')\n",
        "  files.download('meta.tsv')"
      ],
      "execution_count": 25,
      "outputs": [
        {
          "output_type": "display_data",
          "data": {
            "application/javascript": [
              "\n",
              "    async function download(id, filename, size) {\n",
              "      if (!google.colab.kernel.accessAllowed) {\n",
              "        return;\n",
              "      }\n",
              "      const div = document.createElement('div');\n",
              "      const label = document.createElement('label');\n",
              "      label.textContent = `Downloading \"${filename}\": `;\n",
              "      div.appendChild(label);\n",
              "      const progress = document.createElement('progress');\n",
              "      progress.max = size;\n",
              "      div.appendChild(progress);\n",
              "      document.body.appendChild(div);\n",
              "\n",
              "      const buffers = [];\n",
              "      let downloaded = 0;\n",
              "\n",
              "      const channel = await google.colab.kernel.comms.open(id);\n",
              "      // Send a message to notify the kernel that we're ready.\n",
              "      channel.send({})\n",
              "\n",
              "      for await (const message of channel.messages) {\n",
              "        // Send a message to notify the kernel that we're ready.\n",
              "        channel.send({})\n",
              "        if (message.buffers) {\n",
              "          for (const buffer of message.buffers) {\n",
              "            buffers.push(buffer);\n",
              "            downloaded += buffer.byteLength;\n",
              "            progress.value = downloaded;\n",
              "          }\n",
              "        }\n",
              "      }\n",
              "      const blob = new Blob(buffers, {type: 'application/binary'});\n",
              "      const a = document.createElement('a');\n",
              "      a.href = window.URL.createObjectURL(blob);\n",
              "      a.download = filename;\n",
              "      div.appendChild(a);\n",
              "      a.click();\n",
              "      div.remove();\n",
              "    }\n",
              "  "
            ],
            "text/plain": [
              "<IPython.core.display.Javascript object>"
            ]
          },
          "metadata": {
            "tags": []
          }
        },
        {
          "output_type": "display_data",
          "data": {
            "application/javascript": [
              "download(\"download_c97b4bd1-8a76-4504-a021-04bb758edf4a\", \"vecs.tsv\", 181047)"
            ],
            "text/plain": [
              "<IPython.core.display.Javascript object>"
            ]
          },
          "metadata": {
            "tags": []
          }
        },
        {
          "output_type": "display_data",
          "data": {
            "application/javascript": [
              "\n",
              "    async function download(id, filename, size) {\n",
              "      if (!google.colab.kernel.accessAllowed) {\n",
              "        return;\n",
              "      }\n",
              "      const div = document.createElement('div');\n",
              "      const label = document.createElement('label');\n",
              "      label.textContent = `Downloading \"${filename}\": `;\n",
              "      div.appendChild(label);\n",
              "      const progress = document.createElement('progress');\n",
              "      progress.max = size;\n",
              "      div.appendChild(progress);\n",
              "      document.body.appendChild(div);\n",
              "\n",
              "      const buffers = [];\n",
              "      let downloaded = 0;\n",
              "\n",
              "      const channel = await google.colab.kernel.comms.open(id);\n",
              "      // Send a message to notify the kernel that we're ready.\n",
              "      channel.send({})\n",
              "\n",
              "      for await (const message of channel.messages) {\n",
              "        // Send a message to notify the kernel that we're ready.\n",
              "        channel.send({})\n",
              "        if (message.buffers) {\n",
              "          for (const buffer of message.buffers) {\n",
              "            buffers.push(buffer);\n",
              "            downloaded += buffer.byteLength;\n",
              "            progress.value = downloaded;\n",
              "          }\n",
              "        }\n",
              "      }\n",
              "      const blob = new Blob(buffers, {type: 'application/binary'});\n",
              "      const a = document.createElement('a');\n",
              "      a.href = window.URL.createObjectURL(blob);\n",
              "      a.download = filename;\n",
              "      div.appendChild(a);\n",
              "      a.click();\n",
              "      div.remove();\n",
              "    }\n",
              "  "
            ],
            "text/plain": [
              "<IPython.core.display.Javascript object>"
            ]
          },
          "metadata": {
            "tags": []
          }
        },
        {
          "output_type": "display_data",
          "data": {
            "application/javascript": [
              "download(\"download_73cb3d54-2f25-40c5-a0d2-8e989512a315\", \"meta.tsv\", 6275)"
            ],
            "text/plain": [
              "<IPython.core.display.Javascript object>"
            ]
          },
          "metadata": {
            "tags": []
          }
        }
      ]
    },
    {
      "cell_type": "code",
      "metadata": {
        "colab": {
          "base_uri": "https://localhost:8080/"
        },
        "id": "643h2SVxLRM4",
        "outputId": "20b8db3a-8a0d-43f1-dbc6-b30d1cbf096b"
      },
      "source": [
        "sentence = [\"granny starting to fear spiders in the garden might be real\", \"game of thrones season finale showing this sunday night\"]\n",
        "sequences = tokenizer.texts_to_sequences(sentence)\n",
        "padded = pad_sequences(sequences, maxlen=max_length, padding=padding_type, truncating=trunc_type)\n",
        "print(model.predict(padded))"
      ],
      "execution_count": 26,
      "outputs": [
        {
          "output_type": "stream",
          "text": [
            "[[0.4557469]\n",
            " [0.7380934]]\n"
          ],
          "name": "stdout"
        }
      ]
    },
    {
      "cell_type": "code",
      "metadata": {
        "id": "VYncickWLc2_"
      },
      "source": [
        ""
      ],
      "execution_count": null,
      "outputs": []
    }
  ]
}