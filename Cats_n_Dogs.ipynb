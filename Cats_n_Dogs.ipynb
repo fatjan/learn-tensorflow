{
  "nbformat": 4,
  "nbformat_minor": 0,
  "metadata": {
    "colab": {
      "name": "Cats-n-Dogs.ipynb",
      "provenance": [],
      "collapsed_sections": [],
      "authorship_tag": "ABX9TyPvt/lIGiRMyGix1DJiLCu/",
      "include_colab_link": true
    },
    "kernelspec": {
      "name": "python3",
      "display_name": "Python 3"
    },
    "accelerator": "GPU"
  },
  "cells": [
    {
      "cell_type": "markdown",
      "metadata": {
        "id": "view-in-github",
        "colab_type": "text"
      },
      "source": [
        "<a href=\"https://colab.research.google.com/github/fatjan/learn-tensorflow/blob/master/Cats_n_Dogs.ipynb\" target=\"_parent\"><img src=\"https://colab.research.google.com/assets/colab-badge.svg\" alt=\"Open In Colab\"/></a>"
      ]
    },
    {
      "cell_type": "markdown",
      "metadata": {
        "id": "9QCfTHjdPi1e"
      },
      "source": [
        "# Training with Large Dataset\n",
        "Cats vs Dogs"
      ]
    },
    {
      "cell_type": "code",
      "metadata": {
        "id": "tegwOufvPgRi"
      },
      "source": [
        "import os\n",
        "import zipfile\n",
        "import random\n",
        "import tensorflow as tf\n",
        "from tensorflow.keras.optimizers import RMSprop\n",
        "from tensorflow.keras.preprocessing.image import ImageDataGenerator\n",
        "from shutil import copyfile"
      ],
      "execution_count": 1,
      "outputs": []
    },
    {
      "cell_type": "code",
      "metadata": {
        "colab": {
          "base_uri": "https://localhost:8080/"
        },
        "id": "6kiDxlxyP5kR",
        "outputId": "eed82542-4680-4a01-c9aa-75f3fade0f39"
      },
      "source": [
        "# If the URL doesn't work, visit https://www.microsoft.com/en-us/download/confirmation.aspx?id=54765\n",
        "# And right click on the 'Download Manually' link to get a new URL to the dataset\n",
        "\n",
        "# Note: This is a very large dataset and will take time to download\n",
        "\n",
        "!wget --no-check-certificate \\\n",
        "    \"https://download.microsoft.com/download/3/E/1/3E1C3F21-ECDB-4869-8368-6DEBA77B919F/kagglecatsanddogs_3367a.zip\" \\\n",
        "    -O \"/tmp/cats-and-dogs.zip\"\n",
        "\n",
        "local_zip = '/tmp/cats-and-dogs.zip'\n",
        "zip_ref   = zipfile.ZipFile(local_zip, 'r')\n",
        "zip_ref.extractall('/tmp')\n",
        "zip_ref.close()"
      ],
      "execution_count": 2,
      "outputs": [
        {
          "output_type": "stream",
          "text": [
            "--2020-12-12 10:24:20--  https://download.microsoft.com/download/3/E/1/3E1C3F21-ECDB-4869-8368-6DEBA77B919F/kagglecatsanddogs_3367a.zip\n",
            "Resolving download.microsoft.com (download.microsoft.com)... 23.40.32.112, 2600:1413:a000:68c::e59, 2600:1413:a000:6ac::e59\n",
            "Connecting to download.microsoft.com (download.microsoft.com)|23.40.32.112|:443... connected.\n",
            "HTTP request sent, awaiting response... 200 OK\n",
            "Length: 824894548 (787M) [application/octet-stream]\n",
            "Saving to: ‘/tmp/cats-and-dogs.zip’\n",
            "\n",
            "/tmp/cats-and-dogs. 100%[===================>] 786.68M  26.4MB/s    in 42s     \n",
            "\n",
            "2020-12-12 10:25:02 (18.9 MB/s) - ‘/tmp/cats-and-dogs.zip’ saved [824894548/824894548]\n",
            "\n"
          ],
          "name": "stdout"
        }
      ]
    },
    {
      "cell_type": "code",
      "metadata": {
        "colab": {
          "base_uri": "https://localhost:8080/"
        },
        "id": "8AbZx4RFQBWT",
        "outputId": "598dfbc9-fa3a-430a-da4c-f247496a8baf"
      },
      "source": [
        "print(len(os.listdir('/tmp/PetImages/Cat/')))\n",
        "print(len(os.listdir('/tmp/PetImages/Dog/')))\n"
      ],
      "execution_count": 3,
      "outputs": [
        {
          "output_type": "stream",
          "text": [
            "12501\n",
            "12501\n"
          ],
          "name": "stdout"
        }
      ]
    },
    {
      "cell_type": "code",
      "metadata": {
        "id": "f7x3zdUtQK55"
      },
      "source": [
        "try:\n",
        "  os.mkdir('/tmp/cats-v-dogs')\n",
        "  os.mkdir('/tmp/cats-v-dogs/training')\n",
        "  os.mkdir('/tmp/cats-v-dogs/testing')\n",
        "  os.mkdir('/tmp/cats-v-dogs/training/cats')\n",
        "  os.mkdir('/tmp/cats-v-dogs/training/dogs')\n",
        "  os.mkdir('/tmp/cats-v-dogs/testing/cats')\n",
        "  os.mkdir('/tmp/cats-v-dogs/testing/dogs')\n",
        "except OSError:\n",
        "  pass\n",
        "\n"
      ],
      "execution_count": 4,
      "outputs": []
    },
    {
      "cell_type": "code",
      "metadata": {
        "colab": {
          "base_uri": "https://localhost:8080/"
        },
        "id": "lqZ7tyuBQjLF",
        "outputId": "26d798bf-eb58-4586-b8b0-80a7ac377285"
      },
      "source": [
        "def split_data(SOURCE, TRAINING, TESTING, SPLIT_SIZE):\n",
        "  files = []\n",
        "  for filename in os.listdir(SOURCE):\n",
        "    file = SOURCE + filename\n",
        "    if os.path.getsize(file) > 0:\n",
        "      files.append(filename)\n",
        "    else:\n",
        "      print(filename + ' is zero length, so ignoring.')\n",
        "  \n",
        "  training_length = int(len(files) * SPLIT_SIZE)\n",
        "  testing_length = int(len(files) - training_length)\n",
        "\n",
        "  shuffled_set = random.sample(files, len(files))\n",
        "\n",
        "  training_set = shuffled_set[0:training_length]\n",
        "  testing_set = shuffled_set[-testing_length:]\n",
        "\n",
        "  for filename in training_set:\n",
        "    this_file = SOURCE + filename\n",
        "    destination = TRAINING + filename\n",
        "    copyfile(this_file, destination)\n",
        "\n",
        "  for filename in testing_set:\n",
        "    this_file = SOURCE + filename\n",
        "    destination = TESTING + filename\n",
        "    copyfile(this_file, destination)\n",
        "\n",
        "\n",
        "CAT_SOURCE_DIR = '/tmp/PetImages/Cat/'\n",
        "TRAINING_CATS_DIR = '/tmp/cats-v-dogs/training/cats/'\n",
        "TESTING_CATS_DIR = '/tmp/cats-v-dogs/testing/cats/'\n",
        "\n",
        "DOG_SOURCE_DIR = '/tmp/PetImages/Dog/'\n",
        "TRAINING_DOGS_DIR = '/tmp/cats-v-dogs/training/dogs/'\n",
        "TESTING_DOGS_DIR = '/tmp/cats-v-dogs/testing/dogs/'\n",
        "\n",
        "split_size = .9\n",
        "split_data(CAT_SOURCE_DIR, TRAINING_CATS_DIR, TESTING_CATS_DIR, split_size)\n",
        "split_data(DOG_SOURCE_DIR, TRAINING_DOGS_DIR, TESTING_DOGS_DIR, split_size)"
      ],
      "execution_count": 5,
      "outputs": [
        {
          "output_type": "stream",
          "text": [
            "666.jpg is zero length, so ignoring.\n",
            "11702.jpg is zero length, so ignoring.\n"
          ],
          "name": "stdout"
        }
      ]
    },
    {
      "cell_type": "code",
      "metadata": {
        "colab": {
          "base_uri": "https://localhost:8080/"
        },
        "id": "21TGgu1VTNlM",
        "outputId": "4d8ae420-c1a6-4827-e954-b95ad4ad0064"
      },
      "source": [
        "print(len(os.listdir('/tmp/cats-v-dogs/training/cats')))\n",
        "print(len(os.listdir('/tmp/cats-v-dogs/training/dogs')))\n",
        "print(len(os.listdir('/tmp/cats-v-dogs/testing/cats')))\n",
        "print(len(os.listdir('/tmp/cats-v-dogs/testing/dogs')))\n"
      ],
      "execution_count": 6,
      "outputs": [
        {
          "output_type": "stream",
          "text": [
            "11250\n",
            "11250\n",
            "1250\n",
            "1250\n"
          ],
          "name": "stdout"
        }
      ]
    },
    {
      "cell_type": "markdown",
      "metadata": {
        "id": "Bx92LraMTaAo"
      },
      "source": [
        "# Create the model"
      ]
    },
    {
      "cell_type": "code",
      "metadata": {
        "id": "ukzCAr2NUkKW"
      },
      "source": [
        "model = tf.keras.models.Sequential([\n",
        "        tf.keras.layers.Conv2D(16, (3,3), activation='relu', input_shape=(150, 150, 3)),\n",
        "        tf.keras.layers.MaxPooling2D(2, 2),\n",
        "        tf.keras.layers.Conv2D(32, (3,3), activation='relu'),\n",
        "        tf.keras.layers.MaxPooling2D(2, 2),\n",
        "        tf.keras.layers.Conv2D(64, (3,3), activation='relu'),\n",
        "        tf.keras.layers.MaxPooling2D(2, 2),\n",
        "        tf.keras.layers.Flatten(),\n",
        "        tf.keras.layers.Dense(512, activation='relu'),\n",
        "        tf.keras.layers.Dense(1, activation='sigmoid')\n",
        "])\n",
        "\n",
        "model.compile(optimizer=RMSprop(lr=0.001), loss='binary_crossentropy', metrics=['acc'])  \n",
        "  "
      ],
      "execution_count": 7,
      "outputs": []
    },
    {
      "cell_type": "code",
      "metadata": {
        "colab": {
          "base_uri": "https://localhost:8080/"
        },
        "id": "thMUMmG4TZvl",
        "outputId": "f95250cb-6c23-436e-e01e-2a1c82c8f802"
      },
      "source": [
        "TRAINING_DIR = '/tmp/cats-v-dogs/training/'\n",
        "\n",
        "train_datagen = ImageDataGenerator(rescale=1.0/255.)\n",
        "\n",
        "train_generator = train_datagen.flow_from_directory(\n",
        "                  TRAINING_DIR,\n",
        "                  batch_size = 250,\n",
        "                  class_mode = 'binary',\n",
        "                  target_size = (150, 150)\n",
        ")\n",
        "\n",
        "VALIDATION_DIR = '/tmp/cats-v-dogs/testing/'\n",
        "\n",
        "validation_datagen = ImageDataGenerator(rescale=1.0/255.)\n",
        "\n",
        "validation_generator = validation_datagen.flow_from_directory(\n",
        "                        VALIDATION_DIR,\n",
        "                        batch_size = 250,\n",
        "                        class_mode = 'binary',\n",
        "                        target_size = (150, 150)\n",
        ")"
      ],
      "execution_count": 8,
      "outputs": [
        {
          "output_type": "stream",
          "text": [
            "Found 22498 images belonging to 2 classes.\n",
            "Found 2500 images belonging to 2 classes.\n"
          ],
          "name": "stdout"
        }
      ]
    },
    {
      "cell_type": "code",
      "metadata": {
        "colab": {
          "base_uri": "https://localhost:8080/"
        },
        "id": "5QMvC70kVtfJ",
        "outputId": "f91878f4-7471-448a-ee99-1a0c29d5f04f"
      },
      "source": [
        "history = model.fit(train_generator, epochs=15, steps_per_epoch=90,\n",
        "                    validation_data=validation_generator, validation_steps=6)"
      ],
      "execution_count": 9,
      "outputs": [
        {
          "output_type": "stream",
          "text": [
            "Epoch 1/15\n",
            " 2/90 [..............................] - ETA: 5s - loss: 9.6752 - acc: 0.5160WARNING:tensorflow:Callbacks method `on_train_batch_end` is slow compared to the batch time (batch time: 0.0539s vs `on_train_batch_end` time: 0.0820s). Check your callbacks.\n",
            "28/90 [========>.....................] - ETA: 42s - loss: 1.4476 - acc: 0.5446"
          ],
          "name": "stdout"
        },
        {
          "output_type": "stream",
          "text": [
            "/usr/local/lib/python3.6/dist-packages/PIL/TiffImagePlugin.py:770: UserWarning: Possibly corrupt EXIF data.  Expecting to read 32 bytes but only got 0. Skipping tag 270\n",
            "  \" Skipping tag %s\" % (size, len(data), tag)\n",
            "/usr/local/lib/python3.6/dist-packages/PIL/TiffImagePlugin.py:770: UserWarning: Possibly corrupt EXIF data.  Expecting to read 5 bytes but only got 0. Skipping tag 271\n",
            "  \" Skipping tag %s\" % (size, len(data), tag)\n",
            "/usr/local/lib/python3.6/dist-packages/PIL/TiffImagePlugin.py:770: UserWarning: Possibly corrupt EXIF data.  Expecting to read 8 bytes but only got 0. Skipping tag 272\n",
            "  \" Skipping tag %s\" % (size, len(data), tag)\n",
            "/usr/local/lib/python3.6/dist-packages/PIL/TiffImagePlugin.py:770: UserWarning: Possibly corrupt EXIF data.  Expecting to read 8 bytes but only got 0. Skipping tag 282\n",
            "  \" Skipping tag %s\" % (size, len(data), tag)\n",
            "/usr/local/lib/python3.6/dist-packages/PIL/TiffImagePlugin.py:770: UserWarning: Possibly corrupt EXIF data.  Expecting to read 8 bytes but only got 0. Skipping tag 283\n",
            "  \" Skipping tag %s\" % (size, len(data), tag)\n",
            "/usr/local/lib/python3.6/dist-packages/PIL/TiffImagePlugin.py:770: UserWarning: Possibly corrupt EXIF data.  Expecting to read 20 bytes but only got 0. Skipping tag 306\n",
            "  \" Skipping tag %s\" % (size, len(data), tag)\n",
            "/usr/local/lib/python3.6/dist-packages/PIL/TiffImagePlugin.py:770: UserWarning: Possibly corrupt EXIF data.  Expecting to read 48 bytes but only got 0. Skipping tag 532\n",
            "  \" Skipping tag %s\" % (size, len(data), tag)\n",
            "/usr/local/lib/python3.6/dist-packages/PIL/TiffImagePlugin.py:788: UserWarning: Corrupt EXIF data.  Expecting to read 2 bytes but only got 0. \n",
            "  warnings.warn(str(msg))\n"
          ],
          "name": "stderr"
        },
        {
          "output_type": "stream",
          "text": [
            "90/90 [==============================] - 69s 765ms/step - loss: 0.9155 - acc: 0.5881 - val_loss: 0.6274 - val_acc: 0.6753\n",
            "Epoch 2/15\n",
            "90/90 [==============================] - 68s 750ms/step - loss: 0.6038 - acc: 0.6828 - val_loss: 0.5419 - val_acc: 0.7120\n",
            "Epoch 3/15\n",
            "90/90 [==============================] - 68s 752ms/step - loss: 0.5427 - acc: 0.7318 - val_loss: 0.4954 - val_acc: 0.7673\n",
            "Epoch 4/15\n",
            "90/90 [==============================] - 67s 748ms/step - loss: 0.4878 - acc: 0.7623 - val_loss: 0.4540 - val_acc: 0.7880\n",
            "Epoch 5/15\n",
            "90/90 [==============================] - 67s 749ms/step - loss: 0.4596 - acc: 0.7832 - val_loss: 0.4509 - val_acc: 0.7907\n",
            "Epoch 6/15\n",
            "90/90 [==============================] - 68s 754ms/step - loss: 0.4220 - acc: 0.8031 - val_loss: 0.4205 - val_acc: 0.8073\n",
            "Epoch 7/15\n",
            "90/90 [==============================] - 69s 764ms/step - loss: 0.3838 - acc: 0.8233 - val_loss: 0.6900 - val_acc: 0.7007\n",
            "Epoch 8/15\n",
            "90/90 [==============================] - 68s 760ms/step - loss: 0.3509 - acc: 0.8444 - val_loss: 0.4095 - val_acc: 0.8133\n",
            "Epoch 9/15\n",
            "90/90 [==============================] - 69s 763ms/step - loss: 0.3193 - acc: 0.8602 - val_loss: 0.3674 - val_acc: 0.8387\n",
            "Epoch 10/15\n",
            "90/90 [==============================] - 69s 768ms/step - loss: 0.2713 - acc: 0.8836 - val_loss: 0.3956 - val_acc: 0.8373\n",
            "Epoch 11/15\n",
            "90/90 [==============================] - 69s 764ms/step - loss: 0.2368 - acc: 0.9016 - val_loss: 0.4043 - val_acc: 0.8280\n",
            "Epoch 12/15\n",
            "90/90 [==============================] - 69s 767ms/step - loss: 0.1888 - acc: 0.9244 - val_loss: 0.4386 - val_acc: 0.8373\n",
            "Epoch 13/15\n",
            "90/90 [==============================] - 69s 763ms/step - loss: 0.1639 - acc: 0.9380 - val_loss: 0.5992 - val_acc: 0.7760\n",
            "Epoch 14/15\n",
            "90/90 [==============================] - 68s 758ms/step - loss: 0.1281 - acc: 0.9548 - val_loss: 0.4910 - val_acc: 0.8387\n",
            "Epoch 15/15\n",
            "90/90 [==============================] - 68s 755ms/step - loss: 0.0901 - acc: 0.9697 - val_loss: 0.5348 - val_acc: 0.8280\n"
          ],
          "name": "stdout"
        }
      ]
    },
    {
      "cell_type": "code",
      "metadata": {
        "colab": {
          "base_uri": "https://localhost:8080/",
          "height": 579
        },
        "id": "ClT1YqwdWAIr",
        "outputId": "c566783f-4a2b-42e5-804d-3b320275ee35"
      },
      "source": [
        "%matplotlib inline\n",
        "\n",
        "import matplotlib.image as mpimg\n",
        "import matplotlib.pyplot as plt\n",
        "\n",
        "acc = history.history['acc']\n",
        "val_acc = history.history['val_acc']\n",
        "\n",
        "loss_history = history.history['loss']\n",
        "val_loss = history.history['val_loss']\n",
        "\n",
        "epochs = range(len(acc))\n",
        "\n",
        "plt.plot(epochs, acc, 'r', 'Training Accuracy')\n",
        "plt.plot(epochs, val_acc, 'r', 'Validation Accuracy')\n",
        "plt.title('Training and Validation Accuracy')\n",
        "plt.figure()\n",
        "\n",
        "plt.plot(epochs, loss_history, 'r', 'Training Loss')\n",
        "plt.plot(epochs, val_loss, 'r', 'Validation Loss')\n",
        "plt.title('Training and Validation Loss')\n",
        "plt.figure()\n",
        "\n",
        "\n"
      ],
      "execution_count": 12,
      "outputs": [
        {
          "output_type": "execute_result",
          "data": {
            "text/plain": [
              "<Figure size 432x288 with 0 Axes>"
            ]
          },
          "metadata": {
            "tags": []
          },
          "execution_count": 12
        },
        {
          "output_type": "display_data",
          "data": {
            "image/png": "[encoded data removed]",
            "text/plain": [
              "<Figure size 432x288 with 1 Axes>"
            ]
          },
          "metadata": {
            "tags": [],
            "needs_background": "light"
          }
        },
        {
          "output_type": "display_data",
          "data": {
            "image/png": "[encoded data removed]",
            "text/plain": [
              "<Figure size 432x288 with 1 Axes>"
            ]
          },
          "metadata": {
            "tags": [],
            "needs_background": "light"
          }
        },
        {
          "output_type": "display_data",
          "data": {
            "text/plain": [
              "<Figure size 432x288 with 0 Axes>"
            ]
          },
          "metadata": {
            "tags": []
          }
        }
      ]
    }
  ]
}