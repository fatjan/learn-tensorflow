{
  "nbformat": 4,
  "nbformat_minor": 0,
  "metadata": {
    "colab": {
      "name": "Week1-exercise-handwritting-images",
      "provenance": [],
      "authorship_tag": "ABX9TyO1TnUG69B8CaI3TVpg/ygE",
      "include_colab_link": true
    },
    "kernelspec": {
      "name": "python3",
      "display_name": "Python 3"
    }
  },
  "cells": [
    {
      "cell_type": "markdown",
      "metadata": {
        "id": "view-in-github",
        "colab_type": "text"
      },
      "source": [
        "<a href=\"https://colab.research.google.com/github/fatjan/learn-tensorflow/blob/master/Week1_exercise_handwritting_images.ipynb\" target=\"_parent\"><img src=\"https://colab.research.google.com/assets/colab-badge.svg\" alt=\"Open In Colab\"/></a>"
      ]
    },
    {
      "cell_type": "markdown",
      "metadata": {
        "id": "ytQjH4DTx7oG",
        "colab_type": "text"
      },
      "source": [
        "Exercise 2\n",
        "In the course you learned how to do classificaiton using Fashion MNIST, a data set containing items of clothing. There's another, similar dataset called MNIST which has items of handwriting -- the digits 0 through 9.\n",
        "\n",
        "Write an MNIST classifier that trains to 99% accuracy or above, and does it without a fixed number of epochs -- i.e. you should stop training once you reach that level of accuracy.\n",
        "\n",
        "Some notes:\n",
        "\n",
        "It should succeed in less than 10 epochs, so it is okay to change epochs= to 10, but nothing larger\n",
        "When it reaches 99% or greater it should print out the string \"Reached 99% accuracy so cancelling training!\"\n",
        "If you add any additional variables, make sure you use the same names as the ones used in the class\n",
        "I've started the code for you below -- how would you finish it?"
      ]
    },
    {
      "cell_type": "code",
      "metadata": {
        "id": "0PaNkkDOx3pw",
        "colab_type": "code",
        "colab": {}
      },
      "source": [
        "import tensorflow as tf\n",
        "# DO NOT CHANGE THE LINE BELOW. If you are developing in a local\n",
        "# environment, then grab mnist.npz from the Coursera Jupyter Notebook\n",
        "# and place it inside a local folder and edit the path to that location\n"
      ],
      "execution_count": 0,
      "outputs": []
    },
    {
      "cell_type": "code",
      "metadata": {
        "id": "UHE7VXmf3NPe",
        "colab_type": "code",
        "colab": {
          "base_uri": "https://localhost:8080/",
          "height": 282
        },
        "outputId": "7e808049-f673-40e9-8b4a-e4453056d079"
      },
      "source": [
        "mnist = tf.keras.datasets.mnist\n",
        "\n",
        "(x_train, y_train),(x_test, y_test) = mnist.load_data()\n",
        "import numpy as np\n",
        "np.set_printoptions(linewidth=200)\n",
        "import matplotlib.pyplot as plt\n",
        "plt.imshow(x_train[2])\n",
        "print(y_train[2])"
      ],
      "execution_count": 14,
      "outputs": [
        {
          "output_type": "stream",
          "text": [
            "4\n"
          ],
          "name": "stdout"
        },
        {
          "output_type": "display_data",
          "data": {
            "image/png": "[encoded data removed]",
            "text/plain": [
              "<Figure size 432x288 with 1 Axes>"
            ]
          },
          "metadata": {
            "tags": [],
            "needs_background": "light"
          }
        }
      ]
    },
    {
      "cell_type": "code",
      "metadata": {
        "id": "stOAB9DpyDKP",
        "colab_type": "code",
        "colab": {}
      },
      "source": [
        "# GRADED FUNCTION: train_mnist\n",
        "def train_mnist():\n",
        "    # Please write your code only where you are indicated.\n",
        "    # please do not remove # model fitting inline comments.\n",
        "\n",
        "    # YOUR CODE SHOULD START HERE\n",
        "    class myCallback(tf.keras.callbacks.Callback):\n",
        "      def on_epoch_end(self, epoch, logs={}):\n",
        "        if(logs.get('loss')<0.01):\n",
        "          print(\"\\nReached 99% accuracy so cancelling training!\")\n",
        "          self.model.stop_training = True\n",
        "    callbacks = myCallback()\n",
        "    # YOUR CODE SHOULD END HERE\n",
        "\n",
        "    mnist = tf.keras.datasets.mnist\n",
        "\n",
        "    (x_train, y_train),(x_test, y_test) = mnist.load_data()\n",
        "    # YOUR CODE SHOULD START HERE\n",
        "    x_train = x_train / 255.0\n",
        "    x_test = x_test / 255.0\n",
        "    # YOUR CODE SHOULD END HERE\n",
        "    model = tf.keras.models.Sequential([\n",
        "        # YOUR CODE SHOULD START HERE\n",
        "        tf.keras.layers.Flatten(), \n",
        "        tf.keras.layers.Dense(512, activation=tf.nn.relu),\n",
        "        tf.keras.layers.Dense(10, activation=tf.nn.softmax)\n",
        "        # YOUR CODE SHOULD END HERE\n",
        "    ])\n",
        "\n",
        "    model.compile(optimizer='adam',\n",
        "                  loss='sparse_categorical_crossentropy',\n",
        "                  metrics=['accuracy'])\n",
        "    \n",
        "    # model fitting\n",
        "    history = model.fit(# YOUR CODE SHOULD START HERE\n",
        "        x_test, y_test, epochs=9, callbacks=[callbacks]\n",
        "              # YOUR CODE SHOULD END HERE\n",
        "    )\n",
        "    # model fitting\n",
        "    return history.epoch, history.history['accuracy'][-1]"
      ],
      "execution_count": 0,
      "outputs": []
    },
    {
      "cell_type": "code",
      "metadata": {
        "id": "OH4gSS_7yGOd",
        "colab_type": "code",
        "colab": {
          "base_uri": "https://localhost:8080/",
          "height": 360
        },
        "outputId": "361fa015-f01e-4561-d4e2-e20d767cac8c"
      },
      "source": [
        "train_mnist()"
      ],
      "execution_count": 11,
      "outputs": [
        {
          "output_type": "stream",
          "text": [
            "Epoch 1/9\n",
            "313/313 [==============================] - 1s 4ms/step - loss: 0.3946 - accuracy: 0.8873\n",
            "Epoch 2/9\n",
            "313/313 [==============================] - 1s 4ms/step - loss: 0.1669 - accuracy: 0.9502\n",
            "Epoch 3/9\n",
            "313/313 [==============================] - 1s 4ms/step - loss: 0.0993 - accuracy: 0.9703\n",
            "Epoch 4/9\n",
            "313/313 [==============================] - 1s 4ms/step - loss: 0.0629 - accuracy: 0.9809\n",
            "Epoch 5/9\n",
            "313/313 [==============================] - 1s 4ms/step - loss: 0.0396 - accuracy: 0.9895\n",
            "Epoch 6/9\n",
            "313/313 [==============================] - 1s 4ms/step - loss: 0.0218 - accuracy: 0.9951\n",
            "Epoch 7/9\n",
            "313/313 [==============================] - 1s 4ms/step - loss: 0.0160 - accuracy: 0.9961\n",
            "Epoch 8/9\n",
            "308/313 [============================>.] - ETA: 0s - loss: 0.0096 - accuracy: 0.9985\n",
            "Reached 99% accuracy so cancelling training!\n",
            "313/313 [==============================] - 1s 4ms/step - loss: 0.0095 - accuracy: 0.9985\n"
          ],
          "name": "stdout"
        },
        {
          "output_type": "execute_result",
          "data": {
            "text/plain": [
              "([0, 1, 2, 3, 4, 5, 6, 7], 0.9984999895095825)"
            ]
          },
          "metadata": {
            "tags": []
          },
          "execution_count": 11
        }
      ]
    }
  ]
}