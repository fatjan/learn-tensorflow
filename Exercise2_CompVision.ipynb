{
  "nbformat": 4,
  "nbformat_minor": 0,
  "metadata": {
    "colab": {
      "name": "Exercise2-CompVision.ipynb",
      "provenance": [],
      "collapsed_sections": [],
      "authorship_tag": "ABX9TyMs8hhGMI2gY5SRqf2X3rOu",
      "include_colab_link": true
    },
    "kernelspec": {
      "name": "python3",
      "display_name": "Python 3"
    }
  },
  "cells": [
    {
      "cell_type": "markdown",
      "metadata": {
        "id": "view-in-github",
        "colab_type": "text"
      },
      "source": [
        "<a href=\"https://colab.research.google.com/github/fatjan/learn-tensorflow/blob/master/Exercise2_CompVision.ipynb\" target=\"_parent\"><img src=\"https://colab.research.google.com/assets/colab-badge.svg\" alt=\"Open In Colab\"/></a>"
      ]
    },
    {
      "cell_type": "markdown",
      "metadata": {
        "id": "k8qcUbt5o19D"
      },
      "source": [
        "In the course you learned how to do classification using Fashion MNIST, a data set containing items of clothing. There's another, similar dataset called MNIST which has items of handwriting -- the digits 0 through 9.\n",
        "\n",
        "Write an MNIST classifier that trains to 99% accuracy or above, and does it without a fixed number of epochs -- i.e. you should stop training once you reach that level of accuracy.\n",
        "\n",
        "Some notes:\n",
        "\n",
        "It should succeed in less than 10 epochs, so it is okay to change epochs to 10, but nothing larger\n",
        "When it reaches 99% or greater it should print out the string \"Reached 99% accuracy so cancelling training!\"\n",
        "If you add any additional variables, make sure you use the same names as the ones used in the class\n",
        "I've started the code for you below -- how would you finish it?"
      ]
    },
    {
      "cell_type": "code",
      "metadata": {
        "colab": {
          "base_uri": "https://localhost:8080/"
        },
        "id": "QJY3xh8movDi",
        "outputId": "1592a7a0-3a06-4663-ec00-b5eb2e2e8c8a"
      },
      "source": [
        "import tensorflow as tf\n",
        "\n",
        "# YOUR CODE SHOULD START HERE\n",
        "class myCallback(tf.keras.callbacks.Callback):\n",
        "  def on_epoch_end(self, epoch, logs={}):\n",
        "    if(logs.get('accuracy')>0.9):\n",
        "      print(\"\\nReached 90% accuracy so cancelling training!\")\n",
        "      self.model.stop_training = True\n",
        "\n",
        "callbacks = myCallback()\n",
        "# YOUR CODE SHOULD END HERE\n",
        "mnist = tf.keras.datasets.mnist\n",
        "\n",
        "(x_train, y_train),(x_test, y_test) = mnist.load_data()\n",
        "# YOUR CODE SHOULD START HERE\n",
        "x_train = x_train / 255.0\n",
        "x_test = x_test / 255.0\n",
        "# YOUR CODE SHOULD END HERE\n",
        "model = tf.keras.models.Sequential([\n",
        "# YOUR CODE SHOULD START HERE\n",
        "    tf.keras.layers.Flatten(),\n",
        "    tf.keras.layers.Dense(128, activation=tf.nn.relu),\n",
        "    tf.keras.layers.Dense(10, activation=tf.nn.softmax)\n",
        "# YOUR CODE SHOULD END HERE\n",
        "])\n",
        "\n",
        "model.compile(optimizer='adam',\n",
        "              loss='sparse_categorical_crossentropy',\n",
        "              metrics=['accuracy'])\n",
        "\n",
        "# YOUR CODE SHOULD START HERE\n",
        "model.fit(x_train, y_train, epochs=15, callbacks=[callbacks])\n",
        "# YOUR CODE SHOULD END HERE"
      ],
      "execution_count": 3,
      "outputs": [
        {
          "output_type": "stream",
          "text": [
            "Epoch 1/15\n",
            "1862/1875 [============================>.] - ETA: 0s - loss: 0.2569 - accuracy: 0.9262\n",
            "Reached 90% accuracy so cancelling training!\n",
            "1875/1875 [==============================] - 4s 2ms/step - loss: 0.2564 - accuracy: 0.9264\n"
          ],
          "name": "stdout"
        },
        {
          "output_type": "execute_result",
          "data": {
            "text/plain": [
              "<tensorflow.python.keras.callbacks.History at 0x7f2c61ebad30>"
            ]
          },
          "metadata": {
            "tags": []
          },
          "execution_count": 3
        }
      ]
    },
    {
      "cell_type": "code",
      "metadata": {
        "colab": {
          "base_uri": "https://localhost:8080/"
        },
        "id": "SUB9a-dbqN_E",
        "outputId": "5010d537-b2b9-4182-b0b0-32784e92d380"
      },
      "source": [
        "model.evaluate(x_test, y_test)\n",
        "classifications = model.predict(x_test)\n",
        "print(classifications[0])\n",
        "print(y_test[0])"
      ],
      "execution_count": 7,
      "outputs": [
        {
          "output_type": "stream",
          "text": [
            "313/313 [==============================] - 0s 1ms/step - loss: 0.1313 - accuracy: 0.9619\n",
            "[7.4893187e-06 7.5984779e-08 1.6994189e-04 7.7210931e-04 1.5495233e-07\n",
            " 2.4436940e-05 8.9409841e-10 9.9894935e-01 1.0635062e-05 6.5861619e-05]\n",
            "7\n"
          ],
          "name": "stdout"
        }
      ]
    },
    {
      "cell_type": "markdown",
      "metadata": {
        "id": "rJK_s6wKo155"
      },
      "source": [
        ""
      ]
    }
  ]
}