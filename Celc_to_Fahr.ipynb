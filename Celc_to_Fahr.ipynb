{
  "nbformat": 4,
  "nbformat_minor": 0,
  "metadata": {
    "colab": {
      "name": "Celc-to-Fahr.ipynb",
      "provenance": [],
      "authorship_tag": "ABX9TyM4Scu6C+Lui6duYtAESu4s",
      "include_colab_link": true
    },
    "kernelspec": {
      "name": "python3",
      "display_name": "Python 3"
    },
    "language_info": {
      "name": "python"
    }
  },
  "cells": [
    {
      "cell_type": "markdown",
      "metadata": {
        "id": "view-in-github",
        "colab_type": "text"
      },
      "source": [
        "<a href=\"https://colab.research.google.com/github/fatjan/learn-tensorflow/blob/master/Celc_to_Fahr.ipynb\" target=\"_parent\"><img src=\"https://colab.research.google.com/assets/colab-badge.svg\" alt=\"Open In Colab\"/></a>"
      ]
    },
    {
      "cell_type": "code",
      "metadata": {
        "id": "aepfbEIgrS97"
      },
      "source": [
        "import tensorflow as tf"
      ],
      "execution_count": 1,
      "outputs": []
    },
    {
      "cell_type": "code",
      "metadata": {
        "id": "mai03wa8rZpp"
      },
      "source": [
        "import numpy as np\n",
        "import logging\n",
        "logger = tf.get_logger()\n",
        "logger.setLevel(logging.ERROR)"
      ],
      "execution_count": 2,
      "outputs": []
    },
    {
      "cell_type": "markdown",
      "metadata": {
        "id": "ouMU5V_urkca"
      },
      "source": [
        "# Setup Training Data"
      ]
    },
    {
      "cell_type": "code",
      "metadata": {
        "colab": {
          "base_uri": "https://localhost:8080/"
        },
        "id": "8QGz2yxXrrXS",
        "outputId": "543db36d-b17e-4e86-b7a8-4988bda1964c"
      },
      "source": [
        "celcius_q = np.array([-40, -10,  0,  8, 15, 22,  38],  dtype=float)\n",
        "fahrenheit_a = np.array([-40,  14, 32, 46, 59, 72, 100],  dtype=float)\n",
        "\n",
        "for i, c in enumerate(celcius_q):\n",
        "  print(\"{} degree Celcius = {} degrees Fahrenheit.\".format(c, fahrenheit_a[i]))"
      ],
      "execution_count": 3,
      "outputs": [
        {
          "output_type": "stream",
          "text": [
            "-40.0 degree Celcius = -40.0 degrees Fahrenheit.\n",
            "-10.0 degree Celcius = 14.0 degrees Fahrenheit.\n",
            "0.0 degree Celcius = 32.0 degrees Fahrenheit.\n",
            "8.0 degree Celcius = 46.0 degrees Fahrenheit.\n",
            "15.0 degree Celcius = 59.0 degrees Fahrenheit.\n",
            "22.0 degree Celcius = 72.0 degrees Fahrenheit.\n",
            "38.0 degree Celcius = 100.0 degrees Fahrenheit.\n"
          ],
          "name": "stdout"
        }
      ]
    },
    {
      "cell_type": "code",
      "metadata": {
        "id": "Yv_oHFTisNkG"
      },
      "source": [
        "l0 = tf.keras.layers.Dense(units=1, input_shape=[1])"
      ],
      "execution_count": 6,
      "outputs": []
    },
    {
      "cell_type": "code",
      "metadata": {
        "id": "Sy-Mz2RtsS5n"
      },
      "source": [
        "model = tf.keras.Sequential([l0])"
      ],
      "execution_count": 8,
      "outputs": []
    },
    {
      "cell_type": "code",
      "metadata": {
        "id": "h5AyyQDXsi_w"
      },
      "source": [
        "model.compile(loss='mean_squared_error', optimizer=tf.keras.optimizers.Adam(0.1))"
      ],
      "execution_count": 9,
      "outputs": []
    },
    {
      "cell_type": "code",
      "metadata": {
        "colab": {
          "base_uri": "https://localhost:8080/"
        },
        "id": "BiVxtIpvsvbG",
        "outputId": "e7d2af09-6f44-49ba-988f-6795a56b2e04"
      },
      "source": [
        "history = model.fit(celcius_q, fahrenheit_a, epochs=500, verbose=False)\n",
        "\n",
        "print(\"Finished training the model\")"
      ],
      "execution_count": 10,
      "outputs": [
        {
          "output_type": "stream",
          "text": [
            "Finished training the model\n"
          ],
          "name": "stdout"
        }
      ]
    },
    {
      "cell_type": "markdown",
      "metadata": {
        "id": "CLzsVdkgs75F"
      },
      "source": [
        "Display Training Statistics"
      ]
    },
    {
      "cell_type": "code",
      "metadata": {
        "colab": {
          "base_uri": "https://localhost:8080/",
          "height": 298
        },
        "id": "x36vUCZps9xx",
        "outputId": "eec3d6f6-b771-458c-f548-15bcc33e79c8"
      },
      "source": [
        "import matplotlib.pyplot as plt\n",
        "plt.xlabel(\"Epoch Number\")\n",
        "plt.ylabel(\"Loss Magnitude\")\n",
        "plt.plot(history.history['loss'])"
      ],
      "execution_count": 11,
      "outputs": [
        {
          "output_type": "execute_result",
          "data": {
            "text/plain": [
              "[<matplotlib.lines.Line2D at 0x7f9d409612d0>]"
            ]
          },
          "metadata": {
            "tags": []
          },
          "execution_count": 11
        },
        {
          "output_type": "display_data",
          "data": {
            "image/png": "[encoded data removed]",
            "text/plain": [
              "<Figure size 432x288 with 1 Axes>"
            ]
          },
          "metadata": {
            "tags": [],
            "needs_background": "light"
          }
        }
      ]
    },
    {
      "cell_type": "markdown",
      "metadata": {
        "id": "WkMgoYqvtOLK"
      },
      "source": [
        "Predict Values using the model"
      ]
    },
    {
      "cell_type": "code",
      "metadata": {
        "colab": {
          "base_uri": "https://localhost:8080/"
        },
        "id": "gvBRLajitQVT",
        "outputId": "b1c472ce-624c-4480-e946-f8c61e443165"
      },
      "source": [
        "print(model.predict([100.0]))"
      ],
      "execution_count": 12,
      "outputs": [
        {
          "output_type": "stream",
          "text": [
            "[[211.3379]]\n"
          ],
          "name": "stdout"
        }
      ]
    },
    {
      "cell_type": "markdown",
      "metadata": {
        "id": "60hdWPyUtX-p"
      },
      "source": [
        "Internal variables of dense layer"
      ]
    },
    {
      "cell_type": "code",
      "metadata": {
        "colab": {
          "base_uri": "https://localhost:8080/"
        },
        "id": "h7pLTV1EtahZ",
        "outputId": "8dca35da-94c0-4e5b-ed1a-475a4364a710"
      },
      "source": [
        "print(\"These are the layer variables: {}\".format(l0.get_weights()))"
      ],
      "execution_count": 13,
      "outputs": [
        {
          "output_type": "stream",
          "text": [
            "These are the layer variables: [array([[1.8204855]], dtype=float32), array([29.289347], dtype=float32)]\n"
          ],
          "name": "stdout"
        }
      ]
    },
    {
      "cell_type": "markdown",
      "metadata": {
        "id": "Mszt9HAttjvM"
      },
      "source": [
        "A little experiment"
      ]
    },
    {
      "cell_type": "code",
      "metadata": {
        "colab": {
          "base_uri": "https://localhost:8080/"
        },
        "id": "oqFU7nBVtk3s",
        "outputId": "19783125-fa64-4ad4-f2c6-93f2863eeb52"
      },
      "source": [
        "l0 = tf.keras.layers.Dense(units=4, input_shape=[1])\n",
        "l1 = tf.keras.layers.Dense(units=4)\n",
        "l2 = tf.keras.layers.Dense(units=1)\n",
        "model = tf.keras.Sequential([l0, l1, l2])\n",
        "model.compile(loss='mean_squared_error', optimizer=tf.keras.optimizers.Adam(0.1))\n",
        "model.fit(celcius_q, fahrenheit_a, epochs=500, verbose=False)\n",
        "print(\"Finished training the model\")\n",
        "print(\"Model predicts that 100 degrees Celsius is: {} degrees Fahrenheit\".format(model.predict([100.0])))\n",
        "print(\"These are the l0 variables: {}\".format(l0.get_weights()))\n",
        "print(\"These are the l1 variables: {}\".format(l1.get_weights()))\n",
        "print(\"These are the l2 variables: {}\".format(l2.get_weights()))\n",
        "\n",
        "\n"
      ],
      "execution_count": 16,
      "outputs": [
        {
          "output_type": "stream",
          "text": [
            "Finished training the model\n",
            "Model predicts that 100 degrees Celsius is: [[211.74745]] degrees Fahrenheit\n",
            "These are the l0 variables: [array([[ 0.27637994, -0.25054616, -0.04979979, -0.64210886]],\n",
            "      dtype=float32), array([ 0.03233606, -2.7714784 ,  3.603819  , -4.02712   ], dtype=float32)]\n",
            "These are the l1 variables: [array([[ 0.2145275 , -0.42137393, -0.43905655,  0.76731926],\n",
            "       [ 1.2044214 , -0.49358517,  0.3312288 ,  0.78283197],\n",
            "       [ 0.01898255, -0.9962792 , -1.58766   ,  0.2628643 ],\n",
            "       [ 1.2503554 , -0.3877957 ,  0.66347754,  0.9681266 ]],\n",
            "      dtype=float32), array([-3.7507217, -1.3225648, -3.2828615, -2.3863306], dtype=float32)]\n",
            "These are the l2 variables: [array([[-1.1285491 ],\n",
            "       [-0.30750155],\n",
            "       [-0.9571876 ],\n",
            "       [-0.29657474]], dtype=float32), array([3.452944], dtype=float32)]\n"
          ],
          "name": "stdout"
        }
      ]
    }
  ]
}